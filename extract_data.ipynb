{
 "cells": [
  {
   "cell_type": "code",
   "execution_count": 2,
   "metadata": {},
   "outputs": [
    {
     "data": {
      "text/plain": [
       "True"
      ]
     },
     "execution_count": 2,
     "metadata": {},
     "output_type": "execute_result"
    }
   ],
   "source": [
    "import requests\n",
    "from dotenv import load_dotenv\n",
    "import os\n",
    "load_dotenv()"
   ]
  },
  {
   "cell_type": "code",
   "execution_count": null,
   "metadata": {},
   "outputs": [],
   "source": [
    "def extract_data_from_api(symbol, interval, range):\n",
    "    url = \"https://yh-finance.p.rapidapi.com/stock/v3/get-chart\"\n",
    "    querystring = {  \"region\":\"US\", \"lang\":\"en\", \"symbol\": symbol, \"interval\":interval,\n",
    "                   \"range\": range, \"events\":\"capitalGain,div,split\"}\n",
    "    headers = {\"X-RapidAPI-Key\": os.environ.get(\"RAPIDAPI_KEY\"),\n",
    "    \"X-RapidAPI-Host\": os.environ.get(\"RAPIDAPI_HOST\")}\n",
    "    response = requests.request(\"GET\", url, headers=headers, params=querystring)\n",
    "    if response.ok:\n",
    "        data = json.loads(response.content)\n",
    "        return data[\"chart\"][\"result\"][0]\n",
    "    return None"
   ]
  },
  {
   "attachments": {},
   "cell_type": "markdown",
   "metadata": {},
   "source": []
  }
 ],
 "metadata": {
  "kernelspec": {
   "display_name": "Python 3 (ipykernel)",
   "language": "python",
   "name": "python3"
  },
  "language_info": {
   "codemirror_mode": {
    "name": "ipython",
    "version": 3
   },
   "file_extension": ".py",
   "mimetype": "text/x-python",
   "name": "python",
   "nbconvert_exporter": "python",
   "pygments_lexer": "ipython3",
   "version": "3.11.2"
  }
 },
 "nbformat": 4,
 "nbformat_minor": 2
}
