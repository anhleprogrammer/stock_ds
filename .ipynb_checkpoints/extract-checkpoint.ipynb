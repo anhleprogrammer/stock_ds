{
 "cells": [
  {
   "cell_type": "code",
   "execution_count": 23,
   "metadata": {},
   "outputs": [
    {
     "data": {
      "text/plain": [
       "True"
      ]
     },
     "execution_count": 23,
     "metadata": {},
     "output_type": "execute_result"
    }
   ],
   "source": [
    "import requests\n",
    "import pandas as pd\n",
    "from dotenv import load_dotenv\n",
    "import os\n",
    "import json\n",
    "import datetime\n",
    "\n",
    "load_dotenv()\n"
   ]
  },
  {
   "cell_type": "code",
   "execution_count": 24,
   "metadata": {},
   "outputs": [],
   "source": [
    "def extractData(symbol, interval, range):\n",
    "    url = \"https://yh-finance.p.rapidapi.com/stock/v3/get-chart\"\n",
    "    querystring = {  \"region\":\"US\", \"lang\":\"en\", \"symbol\": symbol, \"interval\":interval,\n",
    "                   \"range\": range, \"events\":\"capitalGain,div,split\"}\n",
    "    headers = {\"X-RapidAPI-Key\": os.environ.get(\"RAPIDAPI_KEY\"),\n",
    "    \"X-RapidAPI-Host\": os.environ.get(\"RAPIDAPI_HOST\")}\n",
    "    response = requests.request(\"GET\", url, headers=headers, params=querystring)\n",
    "    if response.ok:\n",
    "        data = json.loads(response.content)\n",
    "        return data[\"chart\"][\"result\"][0]\n",
    "    return None"
   ]
  },
  {
   "cell_type": "code",
   "execution_count": 43,
   "metadata": {},
   "outputs": [
    {
     "name": "stdout",
     "output_type": "stream",
     "text": [
      "{'meta': {'currency': 'USD', 'symbol': 'AMZN', 'exchangeName': 'NMS', 'instrumentType': 'EQUITY', 'firstTradeDate': 863703000, 'regularMarketTime': 1677856160, 'gmtoffset': -18000, 'timezone': 'EST', 'exchangeTimezoneName': 'America/New_York', 'regularMarketPrice': 93.58, 'chartPreviousClose': 92.13, 'previousClose': 92.13, 'scale': 3, 'priceHint': 2, 'currentTradingPeriod': {'pre': {'timezone': 'EST', 'start': 1677834000, 'end': 1677853800, 'gmtoffset': -18000}, 'regular': {'timezone': 'EST', 'start': 1677853800, 'end': 1677877200, 'gmtoffset': -18000}, 'post': {'timezone': 'EST', 'start': 1677877200, 'end': 1677891600, 'gmtoffset': -18000}}, 'tradingPeriods': [[{'timezone': 'EST', 'start': 1677853800, 'end': 1677877200, 'gmtoffset': -18000}]], 'dataGranularity': '1m', 'range': '1d', 'validRanges': ['1d', '5d', '1mo', '3mo', '6mo', '1y', '2y', '5y', '10y', 'ytd', 'max']}, 'timestamp': [1677853800, 1677853860, 1677853920, 1677853980, 1677854040, 1677854100, 1677854160, 1677854220, 1677854280, 1677854340, 1677854400, 1677854460, 1677854520, 1677854580, 1677854640, 1677854700, 1677854760, 1677854820, 1677854880, 1677854940, 1677855000, 1677855060, 1677855120, 1677855180, 1677855240, 1677855300, 1677855360, 1677855420, 1677855480, 1677855540, 1677855600, 1677855660, 1677855720, 1677855780, 1677855840, 1677855900, 1677855960, 1677856020, 1677856080, 1677856140, 1677856160], 'indicators': {'quote': [{'open': [92.73999786376953, 92.66999816894531, 92.92500305175781, 92.95999908447266, 93.02010345458984, 93.0199966430664, 93.08999633789062, 93.0, 93.06999969482422, 93.2249984741211, 93.08000183105469, 93.1500015258789, 93.19999694824219, 93.32499694824219, 93.41999816894531, 93.55999755859375, 93.75849914550781, 93.88069915771484, 93.87779998779297, 93.98500061035156, 93.87999725341797, 93.80000305175781, 93.78500366210938, 93.80500030517578, 93.9000015258789, 94.02999877929688, 93.91000366210938, 93.98999786376953, 93.8499984741211, 93.77999877929688, 93.77999877929688, 93.80999755859375, 93.80999755859375, 93.55999755859375, 93.48500061035156, 93.62999725341797, 93.45999908447266, 93.30999755859375, 93.55000305175781, None, 93.58000183105469], 'volume': [1640392, 276111, 367741, 301353, 273939, 200766, 185464, 190611, 458271, 389142, 197731, 311936, 315161, 443911, 338171, 425174, 383461, 207377, 351848, 265595, 200144, 166561, 205330, 174672, 0, 206231, 397558, 194103, 133296, 119319, 249614, 123436, 278916, 209379, 225496, 180623, 244725, 193238, 236224, None, 0], 'high': [92.97000122070312, 92.94000244140625, 93.11000061035156, 93.13999938964844, 93.12000274658203, 93.0999984741211, 93.08999633789062, 93.0999984741211, 93.30000305175781, 93.30500030517578, 93.2300033569336, 93.25, 93.36000061035156, 93.49500274658203, 93.56999969482422, 93.79000091552734, 93.93000030517578, 93.93000030517578, 94.0199966430664, 94.0, 93.95999908447266, 93.87000274658203, 93.8499984741211, 93.94999694824219, 94.12000274658203, 94.03009796142578, 94.02999877929688, 94.02519989013672, 93.8499984741211, 93.81999969482422, 93.95999908447266, 93.8499984741211, 93.83999633789062, 93.62000274658203, 93.66999816894531, 93.62999725341797, 93.4800033569336, 93.54989624023438, 93.68000030517578, None, 93.58000183105469], 'low': [92.66000366210938, 92.66000366210938, 92.7699966430664, 92.91000366210938, 92.83999633789062, 92.91000366210938, 92.9000015258789, 92.92400360107422, 93.05999755859375, 93.02999877929688, 93.05010223388672, 93.11000061035156, 93.11499786376953, 93.19000244140625, 93.37999725341797, 93.55999755859375, 93.69999694824219, 93.83000183105469, 93.81999969482422, 93.76000213623047, 93.80000305175781, 93.7300033569336, 93.76000213623047, 93.80500030517578, 93.88999938964844, 93.87000274658203, 93.83000183105469, 93.81610107421875, 93.7699966430664, 93.72100067138672, 93.69999694824219, 93.74929809570312, 93.54000091552734, 93.44999694824219, 93.43070220947266, 93.43000030517578, 93.26000213623047, 93.2699966430664, 93.52999877929688, None, 93.58000183105469], 'close': [92.66500091552734, 92.91999816894531, 92.94999694824219, 93.02989959716797, 93.03970336914062, 93.08999633789062, 92.99009704589844, 93.06500244140625, 93.22000122070312, 93.07929992675781, 93.16000366210938, 93.19999694824219, 93.33000183105469, 93.42500305175781, 93.55999755859375, 93.76000213623047, 93.88009643554688, 93.87110137939453, 93.9801025390625, 93.875, 93.80709838867188, 93.78919982910156, 93.80999755859375, 93.89009857177734, 94.03160095214844, 93.91000366210938, 94.0, 93.83999633789062, 93.77999877929688, 93.79640197753906, 93.81500244140625, 93.80999755859375, 93.55999755859375, 93.48999786376953, 93.62989807128906, 93.45999908447266, 93.29499816894531, 93.5199966430664, 93.62969970703125, None, 93.58000183105469]}]}}\n"
     ]
    }
   ],
   "source": [
    "response = extractData(\"V\", \"1m\", \"4d\")\n",
    "print(response)"
   ]
  },
  {
   "cell_type": "code",
   "execution_count": 44,
   "metadata": {},
   "outputs": [
    {
     "name": "stdout",
     "output_type": "stream",
     "text": [
      "1\n"
     ]
    }
   ],
   "source": [
    "# def json_to_df(respsone):\n",
    "metadata = response[\"meta\"]\n",
    "# time = response[\"timestamp\"]\n",
    "# indicators = response[\"indicators\"][\"quote\"]\n",
    "# print(metadata)\n",
    "important_columns = {\"currency\" : metadata[\"currency\"], \"symbol\": metadata[\"symbol\"], \n",
    "                     \"instrumentType\":metadata[\"instrumentType\"],\"regularMarketPrice\":metadata[\"regularMarketPrice\"],\n",
    "                     \"previousClose\":metadata[\"previousClose\"],\n",
    "                     \"range\": metadata[\"range\"],\n",
    "                     \"interval\": metadata[\"dataGranularity\"]}\n",
    "\n",
    "trading_periods = metadata[\"tradingPeriods\"]\n",
    "start_time = datetime.datetime.fromtimestamp(trading_periods[0][0]['start']).strftime(\"%H:%M\")\n",
    "end_time = datetime.datetime.fromtimestamp(trading_periods[0][0]['end']).strftime(\"%H:%M\")\n",
    "period = start_time + \" - \" + end_time\n",
    "print(len(trading_periods))"
   ]
  },
  {
   "cell_type": "code",
   "execution_count": null,
   "metadata": {},
   "outputs": [],
   "source": []
  }
 ],
 "metadata": {
  "kernelspec": {
   "display_name": "Python 3 (ipykernel)",
   "language": "python",
   "name": "python3"
  },
  "language_info": {
   "codemirror_mode": {
    "name": "ipython",
    "version": 3
   },
   "file_extension": ".py",
   "mimetype": "text/x-python",
   "name": "python",
   "nbconvert_exporter": "python",
   "pygments_lexer": "ipython3",
   "version": "3.11.2"
  }
 },
 "nbformat": 4,
 "nbformat_minor": 2
}
