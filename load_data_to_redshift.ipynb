{
 "cells": [
  {
   "cell_type": "code",
   "execution_count": 11,
   "metadata": {},
   "outputs": [
    {
     "data": {
      "text/plain": [
       "True"
      ]
     },
     "execution_count": 11,
     "metadata": {},
     "output_type": "execute_result"
    }
   ],
   "source": [
    "import boto3\n",
    "from dotenv import load_dotenv\n",
    "import os\n",
    "load_dotenv()"
   ]
  },
  {
   "cell_type": "code",
   "execution_count": 24,
   "metadata": {},
   "outputs": [
    {
     "name": "stdout",
     "output_type": "stream",
     "text": [
      "<botocore.client.Redshift object at 0x105eea310>\n"
     ]
    }
   ],
   "source": [
    "def create_red_shift():\n",
    "    redshift = boto3.client('redshift',\n",
    "                        region_name='us-east-1',\n",
    "                        aws_access_key_id=os.environ.get(\"AWS_ACCESS_KEY\"), \n",
    "                        aws_secret_access_key=os.environ.get(\"AWS_SECRET_ACCESSKEY\"))\n",
    "    return redshift\n",
    "\n",
    "redshift = create_red_shift()\n",
    "response = redshift.create_cluster(\n",
    "    ClusterIdentifier='stock-project-cluster',\n",
    "    NodeType=os.environ.get(\"NODE_TYPE\"),\n",
    "    ClusterType='single-node',\n",
    "    DBName=os.environ.get(\"DB_NAME\"),\n",
    "    MasterUsername=os.environ.get(\"REDSHIFT_USER\"),\n",
    "    MasterUserPassword=os.environ.get(\"REDSHIFT_PASS\"),\n",
    ")\n",
    "print(red_shift)"
   ]
  }
 ],
 "metadata": {
  "kernelspec": {
   "display_name": "env",
   "language": "python",
   "name": "python3"
  },
  "language_info": {
   "codemirror_mode": {
    "name": "ipython",
    "version": 3
   },
   "file_extension": ".py",
   "mimetype": "text/x-python",
   "name": "python",
   "nbconvert_exporter": "python",
   "pygments_lexer": "ipython3",
   "version": "3.11.2"
  },
  "orig_nbformat": 4
 },
 "nbformat": 4,
 "nbformat_minor": 2
}
