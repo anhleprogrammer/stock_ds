{
 "cells": [
  {
   "cell_type": "code",
   "execution_count": 86,
   "metadata": {},
   "outputs": [
    {
     "data": {
      "text/plain": [
       "True"
      ]
     },
     "execution_count": 86,
     "metadata": {},
     "output_type": "execute_result"
    }
   ],
   "source": [
    "import boto3\n",
    "from dotenv import load_dotenv\n",
    "%run \"redshift_tables.ipynb\"\n",
    "import os\n",
    "load_dotenv()"
   ]
  },
  {
   "cell_type": "code",
   "execution_count": 87,
   "metadata": {},
   "outputs": [
    {
     "name": "stdout",
     "output_type": "stream",
     "text": [
      "Cluster already exists\n"
     ]
    }
   ],
   "source": [
    "#Create redshift cluster\n",
    "def create_red_shift():\n",
    "    redshift = boto3.client('redshift',\n",
    "                        region_name='us-east-1',\n",
    "                        aws_access_key_id=os.environ.get(\"AWS_ACCESS_KEY\"), \n",
    "                        aws_secret_access_key=os.environ.get(\"AWS_SECRET_ACCESSKEY\"))\n",
    "    return redshift\n",
    "\n",
    "redshift = create_red_shift()\n",
    "clusters = redshift.describe_clusters(ClusterIdentifier='stock-project-cluster')\n",
    "if len(clusters['Clusters']) > 0:\n",
    "    print('Cluster already exists')\n",
    "else:\n",
    "    response = redshift.create_cluster(\n",
    "        ClusterIdentifier='stock-project-cluster',\n",
    "        NodeType=os.environ.get(\"NODE_TYPE\"),\n",
    "        ClusterType='single-node',\n",
    "        DBName=os.environ.get(\"DB_NAME\"),\n",
    "        MasterUsername=os.environ.get(\"REDSHIFT_USER\"),\n",
    "        MasterUserPassword=os.environ.get(\"REDSHIFT_PASS\"),\n",
    "    )"
   ]
  },
  {
   "cell_type": "code",
   "execution_count": 93,
   "metadata": {},
   "outputs": [
    {
     "name": "stdout",
     "output_type": "stream",
     "text": [
      "Connected to Redshift\n",
      "metadata table created\n",
      "stock_price table created\n",
      "<cursor object at 0x108c825c0; closed: 0>\n"
     ]
    }
   ],
   "source": [
    "#Setup connection to redshift and create cursor\n",
    "conn = setup_connection()\n",
    "cur = conn.cursor()\n",
    "#Create tables\n",
    "create_metadata_table(cur)\n",
    "create_stock_price_table(cur)\n",
    "print(cur)"
   ]
  },
  {
   "cell_type": "code",
   "execution_count": 94,
   "metadata": {},
   "outputs": [
    {
     "name": "stdout",
     "output_type": "stream",
     "text": [
      "V/metadata/2023/03/20230313.csv\n"
     ]
    }
   ],
   "source": [
    "%store -r metadata_key\n",
    "%store -r stockprice_key\n",
    "print(metadata_key)"
   ]
  },
  {
   "cell_type": "code",
   "execution_count": 95,
   "metadata": {},
   "outputs": [],
   "source": [
    "# Copy metadata from S3 to Redshift table\n",
    "copy_metadata_to_redshift = f\"\"\"\n",
    "    COPY metadata\n",
    "    FROM 's3://stockde/{metadata_key}'\n",
    "    ACCESS_KEY_ID '{os.environ.get(\"AWS_ACCESS_KEY\")}'\n",
    "    SECRET_ACCESS_KEY '{os.environ.get(\"AWS_SECRET_ACCESSKEY\")}'\n",
    "    IGNOREHEADER 1\n",
    "    CSV\n",
    "\"\"\"\n",
    "\n",
    "# Copy stockprice from S3 to Redshift table\n",
    "copy_stockprice_to_redshift = f\"\"\"\n",
    "    COPY stock_price\n",
    "    FROM 's3://stockde/{stockprice_key}'\n",
    "    ACCESS_KEY_ID '{os.environ.get(\"AWS_ACCESS_KEY\")}'\n",
    "    SECRET_ACCESS_KEY '{os.environ.get(\"AWS_SECRET_ACCESSKEY\")}'\n",
    "    IGNOREHEADER 1\n",
    "    CSV\n",
    "\"\"\""
   ]
  },
  {
   "cell_type": "code",
   "execution_count": 97,
   "metadata": {},
   "outputs": [],
   "source": [
    "cur.execute(copy_metadata_to_redshift)\n",
    "conn.commit()\n",
    "\n",
    "cur.execute(copy_stockprice_to_redshift)\n",
    "conn.commit()\n"
   ]
  },
  {
   "cell_type": "code",
   "execution_count": 92,
   "metadata": {},
   "outputs": [],
   "source": [
    "conn.close()\n",
    "cur.close()"
   ]
  }
 ],
 "metadata": {
  "kernelspec": {
   "display_name": "env",
   "language": "python",
   "name": "python3"
  },
  "language_info": {
   "codemirror_mode": {
    "name": "ipython",
    "version": 3
   },
   "file_extension": ".py",
   "mimetype": "text/x-python",
   "name": "python",
   "nbconvert_exporter": "python",
   "pygments_lexer": "ipython3",
   "version": "3.11.2"
  },
  "orig_nbformat": 4
 },
 "nbformat": 4,
 "nbformat_minor": 2
}
