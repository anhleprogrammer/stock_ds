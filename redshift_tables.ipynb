{
 "cells": [
  {
   "cell_type": "code",
   "execution_count": 7,
   "metadata": {},
   "outputs": [],
   "source": [
    "import psycopg2\n",
    "from dotenv import load_dotenv\n",
    "import os"
   ]
  },
  {
   "cell_type": "code",
   "execution_count": 8,
   "metadata": {},
   "outputs": [],
   "source": [
    "def setup_connection():\n",
    "    conn_params = {\n",
    "        'host': os.environ.get(\"REDSHIFT_ENDPOINT\"),\n",
    "        'port': \"5439\",\n",
    "        'database':  os.environ.get(\"DB_NAME\"),\n",
    "        'user': os.environ.get(\"REDSHIFT_USER\"),\n",
    "        'password': os.environ.get(\"REDSHIFT_PASS\")\n",
    "    }\n",
    "    try:\n",
    "        conn = psycopg2.connect(**conn_params)\n",
    "        print(\"Connected to Redshift\")\n",
    "        return conn\n",
    "    except psycopg2.Error as e:\n",
    "        print('Failed to connect to redshift!', e)\n",
    "        return\n",
    "\n",
    "\n",
    "def create_metadata_table(cur):\n",
    "    cur.execute(\"\"\"DROP TABLE IF EXISTS metadata\"\"\")\n",
    "    cur.execute(\"\"\"\n",
    "        CREATE TABLE IF NOT EXISTS metadata (\n",
    "            symbol VARCHAR(10) NOT NULL PRIMARY KEY,\n",
    "            instrumentType VARCHAR(20) NOT NULL,\n",
    "            trade_period VARCHAR(20) NOT NULL,\n",
    "            timezone VARCHAR(20) NOT NULL,\n",
    "            range VARCHAR(20) NOT NULL,\n",
    "            interval VARCHAR(20) NOT NULL\n",
    "        )\n",
    "    \"\"\")\n",
    "    conn.commit()\n",
    "    print(\"metadata table created\")\n",
    "\n",
    "def create_stock_price_table(cur):\n",
    "    cur.execute(\"\"\"DROP TABLE IF EXISTS stock_price\"\"\")\n",
    "    cur.execute(\"\"\"\n",
    "        CREATE TABLE IF NOT EXISTs stock_price (\n",
    "            symbol VARCHAR(10),\n",
    "            volume INT NOT NULL,\n",
    "            \"open\" NUMERIC(10, 2) NOT NULL,\n",
    "            close NUMERIC(10, 2) NOT NULL,\n",
    "            high NUMERIC(10, 2) NOT NULL,\n",
    "            low NUMERIC(10, 2) NOT NULL,\n",
    "            timestamp TIMESTAMP\n",
    "        )\n",
    "    \"\"\")\n",
    "    conn.commit()\n",
    "    print(\"stock_price table created\")"
   ]
  }
 ],
 "metadata": {
  "kernelspec": {
   "display_name": "env",
   "language": "python",
   "name": "python3"
  },
  "language_info": {
   "codemirror_mode": {
    "name": "ipython",
    "version": 3
   },
   "file_extension": ".py",
   "mimetype": "text/x-python",
   "name": "python",
   "nbconvert_exporter": "python",
   "pygments_lexer": "ipython3",
   "version": "3.11.2"
  },
  "orig_nbformat": 4
 },
 "nbformat": 4,
 "nbformat_minor": 2
}
