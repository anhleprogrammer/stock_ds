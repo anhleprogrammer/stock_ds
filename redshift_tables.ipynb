{
 "cells": [
  {
   "cell_type": "code",
   "execution_count": 67,
   "metadata": {},
   "outputs": [],
   "source": [
    "import psycopg2\n",
    "from dotenv import load_dotenv\n",
    "import os"
   ]
  },
  {
   "cell_type": "code",
   "execution_count": 68,
   "metadata": {},
   "outputs": [],
   "source": [
    "def setup_connection():\n",
    "    conn_params = {\n",
    "        'host': os.environ.get(\"REDSHIFT_ENDPOINT\"),\n",
    "        'port': \"5439\",\n",
    "        'database':  os.environ.get(\"DB_NAME\"),\n",
    "        'user': os.environ.get(\"REDSHIFT_USER\"),\n",
    "        'password': os.environ.get(\"REDSHIFT_PASS\")\n",
    "    }\n",
    "    try:\n",
    "        conn = psycopg2.connect(**conn_params)\n",
    "        print(\"Connected to Redshift\")\n",
    "        return conn\n",
    "    except psycopg2.Error as e:\n",
    "        print('Failed to connect to redshift!', e)\n",
    "        return\n",
    "\n",
    "\n",
    "def create_metadata_table(cur):\n",
    "    cur.execute(\"\"\"DROP TABLE IF EXISTS metadata\"\"\")\n",
    "    cur.execute(\"\"\"\n",
    "        CREATE TABLE IF NOT EXISTS metadata (\n",
    "            symbol VARCHAR(10) NOT NULL PRIMARY KEY,\n",
    "            instrumentType VARCHAR(10) NOT NULL,\n",
    "            regularMarketPrice NUMERIC(10, 2) NOT NULL,\n",
    "            previousClose NUMERIC(10, 2) NOT NULL,\n",
    "            trade_period VARCHAR(20) NOT NULL,\n",
    "            timezone VARCHAR(10) NOT NULL,\n",
    "            range VARCHAR(10) NOT NULL,\n",
    "            interval VARCHAR(10) NOT NULL\n",
    "        )\n",
    "    \"\"\")\n",
    "    conn.commit()\n",
    "    print(\"metadata table created\")\n",
    "\n",
    "def create_stock_price_table(cur):\n",
    "    cur.execute(\"\"\"DROP TABLE IF EXISTS stock_price\"\"\")\n",
    "    cur.execute(\"\"\"\n",
    "        CREATE TABLE IF NOT EXISTs stock_price (\n",
    "            symbol VARCHAR(10) NOT NULL,\n",
    "            volume NUMERIC(20, 2) NOT NULL,\n",
    "            \"open\" NUMERIC(10, 2) NOT NULL,\n",
    "            close NUMERIC(10, 2) NOT NULL,\n",
    "            high NUMERIC(10, 2) NOT NULL,\n",
    "            low NUMERIC(10, 2) NOT NULL,\n",
    "            timestamp TIMESTAMP NOT NULL\n",
    "        )\n",
    "    \"\"\")\n",
    "    conn.commit()\n",
    "    print(\"stock_price table created\")"
   ]
  },
  {
   "cell_type": "code",
   "execution_count": 69,
   "metadata": {},
   "outputs": [
    {
     "name": "stdout",
     "output_type": "stream",
     "text": [
      "Connected to Redshift\n",
      "metadata table created\n",
      "stock_price table created\n"
     ]
    }
   ],
   "source": [
    "conn = setup_connection()\n",
    "cur = conn.cursor()\n",
    "create_metadata_table(cur)\n",
    "create_stock_price_table(cur)"
   ]
  },
  {
   "cell_type": "code",
   "execution_count": 71,
   "metadata": {},
   "outputs": [],
   "source": [
    "cur.close()\n",
    "conn.close()"
   ]
  }
 ],
 "metadata": {
  "kernelspec": {
   "display_name": "env",
   "language": "python",
   "name": "python3"
  },
  "language_info": {
   "codemirror_mode": {
    "name": "ipython",
    "version": 3
   },
   "file_extension": ".py",
   "mimetype": "text/x-python",
   "name": "python",
   "nbconvert_exporter": "python",
   "pygments_lexer": "ipython3",
   "version": "3.11.2"
  },
  "orig_nbformat": 4
 },
 "nbformat": 4,
 "nbformat_minor": 2
}
