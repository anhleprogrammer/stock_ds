{
 "cells": [
  {
   "cell_type": "code",
   "execution_count": 1,
   "metadata": {},
   "outputs": [],
   "source": [
    "import psycopg2"
   ]
  },
  {
   "cell_type": "code",
   "execution_count": null,
   "metadata": {},
   "outputs": [],
   "source": [
    "def create_metadata_table():\n",
    "    cur.execute(\"\"\"\n",
    "        CREATE TABLE metadata (\n",
    "            symbol VARCHAR(10) NOT NULL PRIMARY KEY,\n",
    "            instrumentType VARCHAR(10) NOT NULL,\n",
    "            regularMarketPrice NUMERIC(10, 2) NOT NULL,\n",
    "            previousClose NUMERIC(10, 2) NOT NULL,\n",
    "            trade_period VARCHAR(20) NOT NULL,\n",
    "            timezone VARCHAR(10) NOT NULL,\n",
    "            range VARCHAR(10) NOT NULL,\n",
    "            interval VARCHAR(10) NOT NULL\n",
    "        )\n",
    "    \"\"\")\n",
    "\n",
    "def create_stock_price_table():\n",
    "    cur.execute(\"\"\"\n",
    "        CREATE TABLE stock_price (\n",
    "            symbol VARCHAR(10) NOT NULL,\n",
    "            volume NUMERIC(20, 2) NOT NULL,\n",
    "            open NUMERIC(10, 2) NOT NULL,\n",
    "            close NUMERIC(10, 2) NOT NULL,\n",
    "            high NUMERIC(10, 2) NOT NULL,\n",
    "            low NUMERIC(10, 2) NOT NULL,\n",
    "            timestamp TIMESTAMP NOT NULL\n",
    "        )\n",
    "    \"\"\")"
   ]
  }
 ],
 "metadata": {
  "kernelspec": {
   "display_name": "env",
   "language": "python",
   "name": "python3"
  },
  "language_info": {
   "codemirror_mode": {
    "name": "ipython",
    "version": 3
   },
   "file_extension": ".py",
   "mimetype": "text/x-python",
   "name": "python",
   "nbconvert_exporter": "python",
   "pygments_lexer": "ipython3",
   "version": "3.11.2"
  },
  "orig_nbformat": 4
 },
 "nbformat": 4,
 "nbformat_minor": 2
}
